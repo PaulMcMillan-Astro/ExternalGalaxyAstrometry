{
 "cells": [
  {
   "cell_type": "code",
   "execution_count": null,
   "id": "fb6f96a9-d483-4d33-ab8f-04ffaf752c8d",
   "metadata": {},
   "outputs": [],
   "source": [
    "import numpy as np\n",
    "import pandas as pd\n",
    "import matplotlib.pyplot as plt\n",
    "import matplotlib as mpl"
   ]
  },
  {
   "cell_type": "markdown",
   "id": "04ee7616-e428-464f-939f-dbe0b45c4bad",
   "metadata": {},
   "source": [
    "# Notebook to summarise uses of ExternalGalaxyAstrometry package"
   ]
  },
  {
   "cell_type": "code",
   "execution_count": null,
   "id": "44a60b09-23ae-4467-be8d-f829b7b1ce94",
   "metadata": {},
   "outputs": [],
   "source": [
    "import ExternalGalaxyAstrometry as EGA"
   ]
  },
  {
   "attachments": {},
   "cell_type": "markdown",
   "id": "f3b07ed6-2b8f-4c0a-9168-75e5eaa44718",
   "metadata": {},
   "source": [
    "Input file is (by default) drawn from the Gaia archive. In this example we draw it from a 8 degree radius around the photometric centre of the LMC\n",
    "\n",
    "For simplicity while this software is testing this is saved into a local file"
   ]
  },
  {
   "cell_type": "code",
   "execution_count": null,
   "id": "f8c56991-8a7e-474d-ad7e-05578ffa00a2",
   "metadata": {},
   "outputs": [],
   "source": [
    "input_name ='testfile.csv'\n",
    "\n",
    "dataLMC = pd.read_csv(input_name)"
   ]
  },
  {
   "cell_type": "code",
   "execution_count": null,
   "id": "d33b5e1b",
   "metadata": {},
   "outputs": [],
   "source": [
    "dataLMC"
   ]
  },
  {
   "cell_type": "code",
   "execution_count": null,
   "id": "a17f6da1",
   "metadata": {},
   "outputs": [],
   "source": [
    "import importlib\n",
    "importlib.reload(EGA)"
   ]
  },
  {
   "cell_type": "code",
   "execution_count": null,
   "id": "70661e53",
   "metadata": {},
   "outputs": [],
   "source": [
    "dataLMCfilt = EGA.filterUsingProperMotions(dataLMC, a0=EGA.a0GaiaEDR3, d0=EGA.d0GaiaEDR3 ,verbose=True)"
   ]
  },
  {
   "attachments": {},
   "cell_type": "markdown",
   "id": "0b5bac69",
   "metadata": {},
   "source": [
    "## Compare distributions on sky of the two"
   ]
  },
  {
   "cell_type": "code",
   "execution_count": null,
   "id": "f822fc16",
   "metadata": {},
   "outputs": [],
   "source": [
    "fig, ax = plt.subplots(1,2,figsize=(12,6))\n",
    "ax[0].hist2d(dataLMCfilt['ra'],dataLMCfilt['dec'],bins=100)\n",
    "ax[1].hist2d(dataLMC['ra'],dataLMC['dec'], bins=100)\n",
    "plt.show()"
   ]
  },
  {
   "cell_type": "code",
   "execution_count": null,
   "id": "6d7b8651",
   "metadata": {},
   "outputs": [],
   "source": [
    "fig, ax = plt.subplots(1,2,figsize=(12,6))\n",
    "\n",
    "for ax, df, label in zip(ax, [dataLMCfilt, dataLMC], ['filtered', 'unfiltered']):\n",
    "    ax.hist2d(df['phot_bp_mean_mag']-df['phot_rp_mean_mag'],\n",
    "         df['phot_g_mean_mag'],[np.linspace(-1,4,100),np.linspace(10,20,100)],cmin=1,\n",
    "          norm=mpl.colors.LogNorm(),cmap='Greys')\n",
    "    ymin,ymax = ax.get_ylim()\n",
    "    ax.set_ylim(ymax,ymin)\n",
    "    ax.set_title(label)\n",
    "plt.show()"
   ]
  },
  {
   "cell_type": "code",
   "execution_count": null,
   "id": "6bd8edbd",
   "metadata": {},
   "outputs": [],
   "source": [
    "binneddata = EGA.binDataOnSky(dataLMCfilt, a0=EGA.a0GaiaEDR3, d0=EGA.d0GaiaEDR3, statisticBins=10, verbose=True)"
   ]
  },
  {
   "cell_type": "code",
   "execution_count": null,
   "id": "caaf71a7",
   "metadata": {},
   "outputs": [],
   "source": [
    "binneddata.columns"
   ]
  },
  {
   "cell_type": "code",
   "execution_count": null,
   "id": "ea5fb477",
   "metadata": {},
   "outputs": [],
   "source": [
    "plt.scatter(binneddata['x'],binneddata['y'],c=binneddata['muxBinned'],cmap='RdBu')\n",
    "plt.colorbar()\n",
    "plt.show()"
   ]
  },
  {
   "cell_type": "code",
   "execution_count": null,
   "id": "567f3171",
   "metadata": {},
   "outputs": [],
   "source": []
  },
  {
   "cell_type": "code",
   "execution_count": null,
   "id": "bef2d122",
   "metadata": {},
   "outputs": [],
   "source": [
    "import importlib\n",
    "importlib.reload(EGA)"
   ]
  },
  {
   "cell_type": "code",
   "execution_count": null,
   "id": "180be5c6",
   "metadata": {},
   "outputs": [],
   "source": [
    "binneddata_filt = binneddata[binneddata['countBinned']>10]\n",
    "results, _ = EGA.fitRotationCurveModel(binneddata_filt, fixedParams={'a0':EGA.a0GaiaEDR3,'d0':EGA.d0GaiaEDR3, }, \n",
    "                          guessParams={'mu_x0':np.nanmedian(binneddata['muxBinned']),'mu_y0':np.nanmedian(binneddata['muyBinned']),\n",
    "                                    'mu_z0':1.1,'i':30,'Omega':300,'v0':0.3,'R0':0.1,'alpha_RC':1.5})\n",
    "results"
   ]
  },
  {
   "cell_type": "code",
   "execution_count": null,
   "id": "c7522142",
   "metadata": {},
   "outputs": [],
   "source": []
  },
  {
   "cell_type": "code",
   "execution_count": null,
   "id": "26afd768",
   "metadata": {},
   "outputs": [],
   "source": []
  }
 ],
 "metadata": {
  "kernelspec": {
   "display_name": "Python 3",
   "language": "python",
   "name": "python3"
  },
  "language_info": {
   "codemirror_mode": {
    "name": "ipython",
    "version": 3
   },
   "file_extension": ".py",
   "mimetype": "text/x-python",
   "name": "python",
   "nbconvert_exporter": "python",
   "pygments_lexer": "ipython3",
   "version": "3.10.8"
  }
 },
 "nbformat": 4,
 "nbformat_minor": 5
}
