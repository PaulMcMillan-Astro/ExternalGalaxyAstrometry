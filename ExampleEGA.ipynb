{
 "cells": [
  {
   "cell_type": "code",
   "execution_count": null,
   "id": "fb6f96a9-d483-4d33-ab8f-04ffaf752c8d",
   "metadata": {},
   "outputs": [],
   "source": [
    "import numpy as np\n",
    "import pandas as pd\n",
    "import matplotlib.pyplot as plt"
   ]
  },
  {
   "cell_type": "markdown",
   "id": "04ee7616-e428-464f-939f-dbe0b45c4bad",
   "metadata": {},
   "source": [
    "# Notebook to summarise uses of ExternalGalaxyAstrometry package"
   ]
  },
  {
   "cell_type": "code",
   "execution_count": null,
   "id": "44a60b09-23ae-4467-be8d-f829b7b1ce94",
   "metadata": {},
   "outputs": [],
   "source": [
    "import ExternalGalaxyAstrometry as EGA"
   ]
  },
  {
   "cell_type": "markdown",
   "id": "f3b07ed6-2b8f-4c0a-9168-75e5eaa44718",
   "metadata": {},
   "source": [
    "Input file is (by default) drawn from the Gaia archive. In this example we draw it from a 8 degree radius around the photometric centre of the LMC\n",
    "\n",
    "For simplicity while this software is testig this is saved into a local file"
   ]
  },
  {
   "cell_type": "code",
   "execution_count": null,
   "id": "f8c56991-8a7e-474d-ad7e-05578ffa00a2",
   "metadata": {},
   "outputs": [],
   "source": [
    "input_name ='testfile.h5'\n",
    "\n",
    "dataLMC = pd.read_hdf(input_name,'table')"
   ]
  }
 ],
 "metadata": {
  "kernelspec": {
   "display_name": "Python 3",
   "language": "python",
   "name": "python3"
  },
  "language_info": {
   "codemirror_mode": {
    "name": "ipython",
    "version": 3
   },
   "file_extension": ".py",
   "mimetype": "text/x-python",
   "name": "python",
   "nbconvert_exporter": "python",
   "pygments_lexer": "ipython3",
   "version": "3.8.8"
  }
 },
 "nbformat": 4,
 "nbformat_minor": 5
}
